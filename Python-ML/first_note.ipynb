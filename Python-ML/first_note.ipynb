{
 "cells": [
  {
   "cell_type": "code",
   "execution_count": 4,
   "id": "57823c47",
   "metadata": {},
   "outputs": [
    {
     "name": "stdout",
     "output_type": "stream",
     "text": [
      "hello bro......\n"
     ]
    }
   ],
   "source": [
    "print(\"hello bro......\")"
   ]
  },
  {
   "cell_type": "markdown",
   "id": "86524f83",
   "metadata": {},
   "source": [
    "### in this problem we check the points x axis and y axis if x axis of point is greater than the y than print \"The x Cordinate is greater than the y cordinate\" else print \"The y Cordinate is greater than the x cordinate\""
   ]
  },
  {
   "cell_type": "code",
   "execution_count": 5,
   "id": "04d7170c",
   "metadata": {},
   "outputs": [
    {
     "name": "stdout",
     "output_type": "stream",
     "text": [
      "The y Cordinate is greater than the x cordinate\n",
      "The y Cordinate is greater than the x cordinate\n",
      "The y Cordinate is greater than the x cordinate\n"
     ]
    }
   ],
   "source": [
    "points=[(1,2),(5,8),(3,4)]\n",
    "for x,y in points:\n",
    "    if x>y:\n",
    "        print(\"The x Cordinate is greater than the y cordinate\")\n",
    "    else:\n",
    "         print(\"The y Cordinate is greater than the x cordinate\")"
   ]
  }
 ],
 "metadata": {
  "kernelspec": {
   "display_name": "Python 3",
   "language": "python",
   "name": "python3"
  },
  "language_info": {
   "codemirror_mode": {
    "name": "ipython",
    "version": 3
   },
   "file_extension": ".py",
   "mimetype": "text/x-python",
   "name": "python",
   "nbconvert_exporter": "python",
   "pygments_lexer": "ipython3",
   "version": "3.13.7"
  }
 },
 "nbformat": 4,
 "nbformat_minor": 5
}
